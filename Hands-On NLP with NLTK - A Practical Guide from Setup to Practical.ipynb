{
 "cells": [
  {
   "cell_type": "code",
   "execution_count": 1,
   "id": "c5b71ab1",
   "metadata": {},
   "outputs": [],
   "source": [
    "#pip install nltk"
   ]
  },
  {
   "cell_type": "code",
   "execution_count": 1,
   "id": "683b3b92",
   "metadata": {},
   "outputs": [],
   "source": [
    "import nltk"
   ]
  },
  {
   "cell_type": "code",
   "execution_count": 3,
   "id": "55bb45c1",
   "metadata": {},
   "outputs": [],
   "source": [
    "#nltk.download()"
   ]
  },
  {
   "cell_type": "code",
   "execution_count": 2,
   "id": "d05f571e",
   "metadata": {},
   "outputs": [
    {
     "name": "stdout",
     "output_type": "stream",
     "text": [
      "*** Introductory Examples for the NLTK Book ***\n",
      "Loading text1, ..., text9 and sent1, ..., sent9\n",
      "Type the name of the text or sentence to view it.\n",
      "Type: 'texts()' or 'sents()' to list the materials.\n",
      "text1: Moby Dick by Herman Melville 1851\n",
      "text2: Sense and Sensibility by Jane Austen 1811\n",
      "text3: The Book of Genesis\n",
      "text4: Inaugural Address Corpus\n",
      "text5: Chat Corpus\n",
      "text6: Monty Python and the Holy Grail\n",
      "text7: Wall Street Journal\n",
      "text8: Personals Corpus\n",
      "text9: The Man Who Was Thursday by G . K . Chesterton 1908\n"
     ]
    }
   ],
   "source": [
    "from nltk.book import *"
   ]
  },
  {
   "cell_type": "code",
   "execution_count": 22,
   "id": "e5e8c8c4",
   "metadata": {},
   "outputs": [
    {
     "name": "stdout",
     "output_type": "stream",
     "text": [
      " Sentence: ['In', 'the', 'beginning', 'God', 'created', 'the', 'heaven', 'and', 'the', 'earth', '.'], Type of Sentence: <class 'list'>\n"
     ]
    }
   ],
   "source": [
    "print(f\" Sentence: {sent3}, Type of Sentence: {type(sent3)}\")"
   ]
  },
  {
   "cell_type": "code",
   "execution_count": 21,
   "id": "b7a1f2ab",
   "metadata": {},
   "outputs": [
    {
     "name": "stdout",
     "output_type": "stream",
     "text": [
      " Text: <Text: Inaugural Address Corpus>, Type of text: <class 'nltk.text.Text'>\n"
     ]
    }
   ],
   "source": [
    "print(f\" Text: {text4}, Type of text: {type(text4)}\")"
   ]
  },
  {
   "cell_type": "code",
   "execution_count": 24,
   "id": "425ec7be",
   "metadata": {},
   "outputs": [
    {
     "name": "stdout",
     "output_type": "stream",
     "text": [
      "Displaying 25 of 346 matches:\n",
      "izens and command the respect of the world . I dwell on this prospect with ever\n",
      "py fruits of them to himself and the world , which are daily increasing , and t\n",
      "dship , and benevolence with all the world ; if an unshaken confidence in the h\n",
      "and the Protector in all ages of the world of virtuous liberty , continue His b\n",
      "e conflicting elements of a troubled world . During the contest of opinion thro\n",
      "hroes and convulsions of the ancient world , during the agonizing spasms of inf\n",
      "nary fear that this Government , the world ' s best hope , may by possibility w\n",
      "on . Nor was it uninteresting to the world that an experiment should be fairly \n",
      "hich it would be unwilling the whole world should witness , can be written down\n",
      "anced . The present situation of the world is indeed without a parallel and tha\n",
      "rtiality . If there be candor in the world , the truth of these assertions will\n",
      "ts of our naval heroes proved to the world our inherent capacity to maintain ou\n",
      "iration and respect of the civilized world . Our physical attainments have not \n",
      "any government ever known to the Old World , with an utter incapacity to oppres\n",
      "eventful period in the annals of the world , and through all the vicissitudes o\n",
      "e are not only at peace with all the world , but have few causes of controversy\n",
      "ttitude in which we stand before the world . Let us exercise forbearance and fi\n",
      "e we stand without a parallel in the world . Abroad we enjoy the respect and , \n",
      "munity with the other nations of the world . This provident forecast has been v\n",
      "ade in the former . However much the world may have improved in many respects i\n",
      "not only to our country , but to the world , must be deprecated by every patrio\n",
      " aegis , and multitudes from the Old World are flocking to our shores to partic\n",
      "rcourse have extended throughout the world . Mind , no longer tasked in devisin\n",
      "is peace with each other and all the world . To enlarge its limits is to extend\n",
      "tories and increasing millions . The world has nothing to fear from military am\n"
     ]
    }
   ],
   "source": [
    "text4.concordance(\"world\")"
   ]
  },
  {
   "cell_type": "code",
   "execution_count": 27,
   "id": "2e8c903e",
   "metadata": {},
   "outputs": [
    {
     "name": "stdout",
     "output_type": "stream",
     "text": [
      "people government nation country union constitution time states future\n",
      "executive law land earth way laws spirit war congress republic south\n"
     ]
    }
   ],
   "source": [
    "text4.similar(\"world\")"
   ]
  },
  {
   "cell_type": "code",
   "execution_count": 29,
   "id": "e94f6851",
   "metadata": {},
   "outputs": [
    {
     "name": "stdout",
     "output_type": "stream",
     "text": [
      "the_and the_the the_we the_is the_but the_has the_in the_to the_from\n",
      "the_as the_there the_with the_our the_at the_have the_now\n"
     ]
    }
   ],
   "source": [
    "text4.common_contexts([\"world\", \"earth\"])"
   ]
  },
  {
   "cell_type": "code",
   "execution_count": 32,
   "id": "6790a8bf",
   "metadata": {},
   "outputs": [
    {
     "data": {
      "text/plain": [
       "152901"
      ]
     },
     "execution_count": 32,
     "metadata": {},
     "output_type": "execute_result"
    }
   ],
   "source": [
    "len(text4)"
   ]
  },
  {
   "cell_type": "code",
   "execution_count": 38,
   "id": "3cb0c3eb",
   "metadata": {},
   "outputs": [
    {
     "data": {
      "text/plain": [
       "10025"
      ]
     },
     "execution_count": 38,
     "metadata": {},
     "output_type": "execute_result"
    }
   ],
   "source": [
    "len(set(text4))"
   ]
  },
  {
   "cell_type": "code",
   "execution_count": 3,
   "id": "159cf832",
   "metadata": {},
   "outputs": [
    {
     "data": {
      "text/plain": [
       "327"
      ]
     },
     "execution_count": 3,
     "metadata": {},
     "output_type": "execute_result"
    }
   ],
   "source": [
    "text4.count(\"world\")"
   ]
  },
  {
   "cell_type": "code",
   "execution_count": 4,
   "id": "482b4cc3",
   "metadata": {},
   "outputs": [
    {
     "data": {
      "text/plain": [
       "'palliated'"
      ]
     },
     "execution_count": 4,
     "metadata": {},
     "output_type": "execute_result"
    }
   ],
   "source": [
    "text4[327]"
   ]
  },
  {
   "cell_type": "code",
   "execution_count": 5,
   "id": "9476f938",
   "metadata": {},
   "outputs": [
    {
     "data": {
      "text/plain": [
       "920"
      ]
     },
     "execution_count": 5,
     "metadata": {},
     "output_type": "execute_result"
    }
   ],
   "source": [
    "text4.index('world')"
   ]
  },
  {
   "cell_type": "code",
   "execution_count": 6,
   "id": "52aba041",
   "metadata": {},
   "outputs": [
    {
     "data": {
      "text/plain": [
       "['command', 'the', 'respect', 'of', 'the', 'world', '.', 'I', 'dwell', 'on']"
      ]
     },
     "execution_count": 6,
     "metadata": {},
     "output_type": "execute_result"
    }
   ],
   "source": [
    "text4[915:925]"
   ]
  },
  {
   "cell_type": "code",
   "execution_count": 12,
   "id": "37b5d098",
   "metadata": {},
   "outputs": [
    {
     "data": {
      "text/plain": [
       "['be',\n",
       " 'exemplified',\n",
       " 'by',\n",
       " 'all',\n",
       " 'the',\n",
       " 'attributes',\n",
       " 'which',\n",
       " 'can',\n",
       " 'win',\n",
       " 'the',\n",
       " 'affections',\n",
       " 'of',\n",
       " 'its',\n",
       " 'citizens',\n",
       " 'and',\n",
       " 'command',\n",
       " 'the',\n",
       " 'respect',\n",
       " 'of',\n",
       " 'the']"
      ]
     },
     "execution_count": 12,
     "metadata": {},
     "output_type": "execute_result"
    }
   ],
   "source": [
    "text4[900:920]"
   ]
  },
  {
   "cell_type": "code",
   "execution_count": 15,
   "id": "5a1387cf",
   "metadata": {},
   "outputs": [
    {
     "name": "stdout",
     "output_type": "stream",
     "text": [
      "['Call', 'me', 'Ishmael', '.']\n"
     ]
    }
   ],
   "source": [
    "print(sent1)"
   ]
  },
  {
   "cell_type": "code",
   "execution_count": 16,
   "id": "77fe9a64",
   "metadata": {},
   "outputs": [
    {
     "name": "stdout",
     "output_type": "stream",
     "text": [
      "['Fellow', '-', 'Citizens', 'of', 'the', 'Senate', 'and', 'of', 'the', 'House', 'of', 'Representatives', ':']\n"
     ]
    }
   ],
   "source": [
    "print(sent4)"
   ]
  },
  {
   "cell_type": "code",
   "execution_count": 14,
   "id": "d969bf5d",
   "metadata": {},
   "outputs": [
    {
     "name": "stdout",
     "output_type": "stream",
     "text": [
      "['Call', 'me', 'Ishmael', '.', 'Fellow', '-', 'Citizens', 'of', 'the', 'Senate', 'and', 'of', 'the', 'House', 'of', 'Representatives', ':']\n"
     ]
    }
   ],
   "source": [
    "print(sent1 + sent4)"
   ]
  },
  {
   "cell_type": "code",
   "execution_count": 21,
   "id": "35e0d1ac",
   "metadata": {},
   "outputs": [
    {
     "name": "stdout",
     "output_type": "stream",
     "text": [
      "['Fellow', '-', 'Citizens', 'of', 'the', 'Senate', 'and', 'of', 'the', 'House', 'of', 'Representatives', ':', 'Great']\n"
     ]
    }
   ],
   "source": [
    "sent4.append(\"Great\")\n",
    "print(sent4)"
   ]
  },
  {
   "cell_type": "code",
   "execution_count": 26,
   "id": "c744f2f8",
   "metadata": {},
   "outputs": [
    {
     "name": "stdout",
     "output_type": "stream",
     "text": [
      "Indexing  Data Science\n",
      "Multiplying Quick Data ScienceQuick Data Science\n",
      "Adding Quick Data Science Love\n",
      "Joining Quick Data Science Python\n",
      "Splitting ['Quick', 'Data', 'Science']\n"
     ]
    }
   ],
   "source": [
    "blog = \"Quick Data Science\" #assigning value to variable\n",
    "print(f\"Indexing {blog[5:]}\") #Accessing tokens based on indexes\n",
    "print(f\"Multiplying {blog*2}\") #Multiplying the strings\n",
    "print(f\"Adding {blog+' Love'}\") #Adding tokens to string\n",
    "print(f\"Joining {' '.join([blog, 'Python'])}\") #Adding token to string\n",
    "print(f\"Splitting {blog.split(' ')}\") #Spliting string"
   ]
  },
  {
   "cell_type": "code",
   "execution_count": 31,
   "id": "759bb271",
   "metadata": {},
   "outputs": [
    {
     "data": {
      "image/png": "[encoded data removed]",
      "text/plain": [
       "<Figure size 640x480 with 1 Axes>"
      ]
     },
     "metadata": {},
     "output_type": "display_data"
    }
   ],
   "source": [
    "text4.dispersion_plot([\"world\", \"earth\", \"citizens\", \"India\", \"country\"])"
   ]
  },
  {
   "cell_type": "code",
   "execution_count": 36,
   "id": "146e6b41",
   "metadata": {},
   "outputs": [
    {
     "name": "stdout",
     "output_type": "stream",
     "text": [
      "objects , and especially the truth that democratic government has\n",
      "innate capacity to govern its affairs aright through the Province\n",
      "ceded , by any timid forebodings of evil were not to overtake them\n",
      "while I possess the property of the pecuniary estimates for the\n",
      "advancement of civilization . , religion and a reckless disregard of\n",
      "the Argonne , Omaha Beach , Salerno and halfway around the globe , and\n",
      "nothing is more important in the House and the special attention of\n",
      "the Government to interfere with the advice and equipment to free ones\n",
      "; to the public agents intrusted with\n"
     ]
    },
    {
     "data": {
      "text/plain": [
       "'objects , and especially the truth that democratic government has\\ninnate capacity to govern its affairs aright through the Province\\nceded , by any timid forebodings of evil were not to overtake them\\nwhile I possess the property of the pecuniary estimates for the\\nadvancement of civilization . , religion and a reckless disregard of\\nthe Argonne , Omaha Beach , Salerno and halfway around the globe , and\\nnothing is more important in the House and the special attention of\\nthe Government to interfere with the advice and equipment to free ones\\n; to the public agents intrusted with'"
      ]
     },
     "execution_count": 36,
     "metadata": {},
     "output_type": "execute_result"
    }
   ],
   "source": [
    "text4.generate()"
   ]
  },
  {
   "cell_type": "code",
   "execution_count": null,
   "id": "63f0fd7c",
   "metadata": {},
   "outputs": [],
   "source": []
  }
 ],
 "metadata": {
  "kernelspec": {
   "display_name": "Python 3 (ipykernel)",
   "language": "python",
   "name": "python3"
  },
  "language_info": {
   "codemirror_mode": {
    "name": "ipython",
    "version": 3
   },
   "file_extension": ".py",
   "mimetype": "text/x-python",
   "name": "python",
   "nbconvert_exporter": "python",
   "pygments_lexer": "ipython3",
   "version": "3.11.5"
  }
 },
 "nbformat": 4,
 "nbformat_minor": 5
}
